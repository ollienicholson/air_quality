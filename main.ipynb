{
 "cells": [
  {
   "cell_type": "code",
   "execution_count": 165,
   "metadata": {},
   "outputs": [],
   "source": [
    "# import necessary libraries\n",
    "import os\n",
    "\n",
    "from aqi_functions_city import fetch_city_data, clean_city_data, plot_city_data, \\\n",
    "                                train_RandomForestRegressor_model, city_predict_and_plot"
   ]
  },
  {
   "cell_type": "code",
   "execution_count": 166,
   "metadata": {},
   "outputs": [],
   "source": [
    "%matplotlib inline"
   ]
  },
  {
   "cell_type": "markdown",
   "metadata": {},
   "source": [
    "**Create Directories**"
   ]
  },
  {
   "cell_type": "code",
   "execution_count": 167,
   "metadata": {},
   "outputs": [],
   "source": [
    "# change csv output as per user preferences\n",
    "csv_output_directory = 'csv'\n",
    "\n",
    "# Create csv output directory if it doesn't exist\n",
    "if not os.path.exists(csv_output_directory):\n",
    "    os.makedirs(csv_output_directory)\n",
    "    \n",
    "# change directory output as per user preferences\n",
    "image_output_directory = 'img'\n",
    "\n",
    "# Create image output directory if it doesn't exist\n",
    "if not os.path.exists(image_output_directory):\n",
    "    os.makedirs(image_output_directory)"
   ]
  },
  {
   "cell_type": "markdown",
   "metadata": {},
   "source": [
    "**Assign Variables for analysis**\n",
    "\n"
   ]
  },
  {
   "cell_type": "markdown",
   "metadata": {},
   "source": [
    "**Fetch city data**"
   ]
  },
  {
   "cell_type": "code",
   "execution_count": 168,
   "metadata": {},
   "outputs": [
    {
     "name": "stdout",
     "output_type": "stream",
     "text": [
      "Fetching city data...\n"
     ]
    }
   ],
   "source": [
    "# Assign variables\n",
    "city = 'Melbourne'\n",
    "start_date = '2021-01-01'\n",
    "end_date = '2023-12-31'\n",
    "limit = 12000\n",
    "\n",
    "# fetch retries\n",
    "retries = 3\n",
    "\n",
    "df = fetch_city_data(city, start_date, end_date, limit, retries)"
   ]
  },
  {
   "cell_type": "markdown",
   "metadata": {},
   "source": [
    "**Here's a breakdown of the data queried from OpenAQ API. You can find the raw data in csv directory after running this notebook**\n",
    "\n",
    "1. **Index (0)**: \n",
    "    \n",
    "    Row index of dataset.\n",
    "\n",
    "2. **SPARTAN - Melbourne**: \n",
    "    \n",
    "    Were the measurement was taken, in this case a monitoring station in Melbourne.\n",
    "\n",
    "3. **pm25**: *(parameter)*\n",
    "    \n",
    "    This indicates the pollutant being measured, specifically particulate matter with a diameter of 2.5 micrometers or smaller (PM2.5). PM2.5 is a measure of fine inhalable particles, about 20 - 30 times smaller than the diameter of the hair on your head. \n",
    "\n",
    "    These tiny particles are small enough to penetrate deep into the lungs, and even enter the bloodstream, causing various health problems, especially for people with pre-existing respiratory and cardiovascular conditions. \n",
    "    \n",
    "    Long-term exposure to high levels of PM2.5 has been linked to increased risks of respiratory and cardiovascular diseases, as well as premature death.\n",
    "\n",
    "4. **1.5**: *(value)*\n",
    "    \n",
    "    This is the measured concentration of PM2.5 in the units specified later (µg/m³).\n",
    "\n",
    "5. **{'utc': '2023-06-19T17:00:00+00:00', 'local': '2023-06-20T03:00:00+10:00'}**: \n",
    "    \n",
    "    Timestamps indicating when the measurement was recorded in both UTC (Coordinated Universal Time) and local time (UTC+10:00, which corresponds AEST).\n",
    "\n",
    "6. **µg/m³**: *(unit)*\n",
    "    \n",
    "    Unit of measurement for PM2.5 concentration, micrograms per cubic meter.\n",
    "\n",
    "7. **{'latitude': -37.7968, 'longitude': 144.963}**: \n",
    "\n",
    "    The geographical coordinates (latitude and longitude) of the measurement location in Melbourne, Australia.\n",
    "\n",
    "8. **AU**: \n",
    "    \n",
    "    Country code (ISO 3166-1 alpha-2 code) for Australia."
   ]
  },
  {
   "cell_type": "markdown",
   "metadata": {},
   "source": [
    "**Clean city data**"
   ]
  },
  {
   "cell_type": "code",
   "execution_count": 169,
   "metadata": {},
   "outputs": [
    {
     "name": "stdout",
     "output_type": "stream",
     "text": [
      "Cleaning city data...\n"
     ]
    }
   ],
   "source": [
    "clean_df = clean_city_data(df)"
   ]
  },
  {
   "cell_type": "markdown",
   "metadata": {},
   "source": [
    "Cleans DataFrame containing air quality measurement data.\n",
    "\n",
    "See below for more info:\n",
    "\n",
    "- Select relevant columns for visualisations, training and prediction model \n",
    "    - date: AEST, \n",
    "    - value: float, \n",
    "    - unit: µg/m³ (micrograms per cubic meter)\n",
    "    - parameter: PM25\n",
    "- Normalize 'date' column\n",
    "- Convert dates and assign\n",
    "- Pivot table pivots the DataFrame data so that:\n",
    "    - Each unique 'date' becomes an index - AEST\n",
    "    - Each unique 'parameter' becomes a column - PM2.5\n",
    "    - The 'value' associated with each combination of 'date' and 'parameter' is placed in the corresponding cell of the pivoted DataFrame.\n",
    "- Resample to daily averages\n",
    "- Drop NaN values\n",
    "- Returns a DataFrame"
   ]
  },
  {
   "cell_type": "markdown",
   "metadata": {},
   "source": [
    "**Basic Plotting of city AQI data**"
   ]
  },
  {
   "cell_type": "code",
   "execution_count": 170,
   "metadata": {},
   "outputs": [
    {
     "name": "stdout",
     "output_type": "stream",
     "text": [
      "Plotting city data...\n"
     ]
    }
   ],
   "source": [
    "plot_city_data(clean_df, city, image_output_directory)"
   ]
  },
  {
   "cell_type": "markdown",
   "metadata": {},
   "source": [
    "plot_city_data generates and saves plotted data to designated directories"
   ]
  },
  {
   "cell_type": "markdown",
   "metadata": {},
   "source": [
    "**Training the model**"
   ]
  },
  {
   "cell_type": "code",
   "execution_count": 171,
   "metadata": {},
   "outputs": [
    {
     "name": "stdout",
     "output_type": "stream",
     "text": [
      "Training Random Forest Regressor model for city data...\n",
      "Mean Squared Error: 34.093\n"
     ]
    }
   ],
   "source": [
    "model = train_RandomForestRegressor_model(clean_df)"
   ]
  },
  {
   "cell_type": "markdown",
   "metadata": {},
   "source": [
    "Trains Random Forest Regressor model to predict PM2.5 levels based on day of the year.\n",
    "\n",
    "Args:\n",
    "- data: DataFrame containing time-series data with 'pm25' values and a datetime index.\n",
    "\n",
    "Returns: model \n",
    "Trained RandomForestRegressor model.\n",
    "\n",
    "Prints:\n",
    "- Mean Squared Error (MSE) of the model on test data.\n",
    "\n",
    "Note:\n",
    "- The 'day_of_year' feature is extracted from the datetime index for modeling."
   ]
  },
  {
   "cell_type": "markdown",
   "metadata": {},
   "source": [
    "**Predict and Plot Dataset**"
   ]
  },
  {
   "cell_type": "code",
   "execution_count": 172,
   "metadata": {},
   "outputs": [
    {
     "ename": "TypeError",
     "evalue": "city_predict_and_plot() takes 4 positional arguments but 5 were given",
     "output_type": "error",
     "traceback": [
      "\u001b[0;31m---------------------------------------------------------------------------\u001b[0m",
      "\u001b[0;31mTypeError\u001b[0m                                 Traceback (most recent call last)",
      "Cell \u001b[0;32mIn[172], line 3\u001b[0m\n\u001b[1;32m      1\u001b[0m days \u001b[38;5;241m=\u001b[39m \u001b[38;5;241m360\u001b[39m \u001b[38;5;66;03m# in days\u001b[39;00m\n\u001b[0;32m----> 3\u001b[0m \u001b[43mcity_predict_and_plot\u001b[49m\u001b[43m(\u001b[49m\u001b[43mmodel\u001b[49m\u001b[43m,\u001b[49m\u001b[43m \u001b[49m\n\u001b[1;32m      4\u001b[0m \u001b[43m                      \u001b[49m\u001b[43mclean_df\u001b[49m\u001b[43m,\u001b[49m\u001b[43m \u001b[49m\n\u001b[1;32m      5\u001b[0m \u001b[43m                      \u001b[49m\u001b[43mcity\u001b[49m\u001b[43m,\u001b[49m\u001b[43m \u001b[49m\n\u001b[1;32m      6\u001b[0m \u001b[43m                      \u001b[49m\u001b[43mimage_output_directory\u001b[49m\u001b[43m,\u001b[49m\u001b[43m \u001b[49m\n\u001b[1;32m      7\u001b[0m \u001b[43m                      \u001b[49m\u001b[43mdays\u001b[49m\n\u001b[1;32m      8\u001b[0m \u001b[43m                      \u001b[49m\u001b[43m)\u001b[49m\n",
      "\u001b[0;31mTypeError\u001b[0m: city_predict_and_plot() takes 4 positional arguments but 5 were given"
     ]
    }
   ],
   "source": [
    "days = 360 # in days\n",
    "\n",
    "city_predict_and_plot(model, \n",
    "                      clean_df, \n",
    "                      city, \n",
    "                      image_output_directory, \n",
    "                      days\n",
    "                      )"
   ]
  }
 ],
 "metadata": {
  "kernelspec": {
   "display_name": "de_test",
   "language": "python",
   "name": "python3"
  },
  "language_info": {
   "codemirror_mode": {
    "name": "ipython",
    "version": 3
   },
   "file_extension": ".py",
   "mimetype": "text/x-python",
   "name": "python",
   "nbconvert_exporter": "python",
   "pygments_lexer": "ipython3",
   "version": "3.12.4"
  }
 },
 "nbformat": 4,
 "nbformat_minor": 2
}
